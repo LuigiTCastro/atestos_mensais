{
 "cells": [
  {
   "cell_type": "code",
   "execution_count": 195,
   "metadata": {},
   "outputs": [],
   "source": [
    "import os\n",
    "import shutil\n",
    "import tkinter as tk\n",
    "from tkinter import simpledialog, messagebox\n",
    "from docx import Document"
   ]
  },
  {
   "cell_type": "code",
   "execution_count": 196,
   "metadata": {},
   "outputs": [],
   "source": [
    "# Construção dos meses\n",
    "\n",
    "dict_months = {\n",
    "    'JANEIRO' : '01',\n",
    "    'FEVEREIRO' : '02',\n",
    "    'MARÇO' : '03',\n",
    "    'ABRIL' : '04',\n",
    "    'MAIO' : '05',\n",
    "    'JUNHO' : '06',\n",
    "    'JULHO' : '07',\n",
    "    'AGOSTO' : '08',\n",
    "    'SETEMBRO' : '09',\n",
    "    'OUTUBRO' : '10',\n",
    "    'NOVEMBRO' : '11',\n",
    "    'DEZEMBRO' : '12',\n",
    "}\n",
    "    \n",
    "def get_num_month(month):\n",
    "    return dict_months.get(month)"
   ]
  },
  {
   "cell_type": "code",
   "execution_count": 197,
   "metadata": {},
   "outputs": [],
   "source": [
    "# INPUT BOX\n",
    "root = tk.Tk()\n",
    "root.withdraw()\n",
    "\n",
    "def get_input():\n",
    "    input_value = simpledialog.askstring('Criar novos arquivos de atesto', 'Digite o mês de referência (ex.: JANEIRO): ').upper()\n",
    "    if not input_value in dict_months:\n",
    "        messagebox.showinfo('Erro', 'Nome inválido.')\n",
    "    return input_value\n",
    "    \n",
    "# root.mainloop()   \n",
    "ref_month = get_input()\n",
    "num_month = get_num_month(ref_month)"
   ]
  },
  {
   "cell_type": "code",
   "execution_count": 198,
   "metadata": {},
   "outputs": [
    {
     "ename": "TypeError",
     "evalue": "unsupported operand type(s) for +: 'NoneType' and 'str'",
     "output_type": "error",
     "traceback": [
      "\u001b[1;31m---------------------------------------------------------------------------\u001b[0m",
      "\u001b[1;31mTypeError\u001b[0m                                 Traceback (most recent call last)",
      "Input \u001b[1;32mIn [198]\u001b[0m, in \u001b[0;36m<cell line: 4>\u001b[1;34m()\u001b[0m\n\u001b[0;32m      2\u001b[0m main_folder \u001b[38;5;241m=\u001b[39m \u001b[38;5;124m'\u001b[39m\u001b[38;5;124mC:/Users/luigi/tjce.jus.br/Acompanhamento De Contratos - Documentos/RH TERCEIRIZAÇÃO 2024/00. CONTROLES/ACOMPANHAMENTO DE ATESTOS\u001b[39m\u001b[38;5;124m'\u001b[39m\n\u001b[0;32m      3\u001b[0m model_files_path \u001b[38;5;241m=\u001b[39m \u001b[38;5;124m'\u001b[39m\u001b[38;5;124mC:/Users/luigi/tjce.jus.br/Acompanhamento De Contratos - Documentos/RH TERCEIRIZAÇÃO 2024/00. CONTROLES/ACOMPANHAMENTO DE ATESTOS/Arquivos_Modelos\u001b[39m\u001b[38;5;124m'\u001b[39m\n\u001b[1;32m----> 4\u001b[0m new_folder_name \u001b[38;5;241m=\u001b[39m \u001b[43mnum_month\u001b[49m\u001b[43m \u001b[49m\u001b[38;5;241;43m+\u001b[39;49m\u001b[43m \u001b[49m\u001b[38;5;124;43m\"\u001b[39;49m\u001b[38;5;124;43m \u001b[39;49m\u001b[38;5;124;43m\"\u001b[39;49m \u001b[38;5;241m+\u001b[39m ref_month\n\u001b[0;32m      5\u001b[0m new_folder_path \u001b[38;5;241m=\u001b[39m os\u001b[38;5;241m.\u001b[39mpath\u001b[38;5;241m.\u001b[39mjoin(main_folder, new_folder_name)\n\u001b[0;32m      8\u001b[0m \u001b[38;5;28;01mtry\u001b[39;00m:\n",
      "\u001b[1;31mTypeError\u001b[0m: unsupported operand type(s) for +: 'NoneType' and 'str'"
     ]
    }
   ],
   "source": [
    "# Criar uma nova pasta com o mês ref\n",
    "main_folder = 'C:/Users/luigi/tjce.jus.br/Acompanhamento De Contratos - Documentos/RH TERCEIRIZAÇÃO 2024/00. CONTROLES/ACOMPANHAMENTO DE ATESTOS'\n",
    "model_files_path = 'C:/Users/luigi/tjce.jus.br/Acompanhamento De Contratos - Documentos/RH TERCEIRIZAÇÃO 2024/00. CONTROLES/ACOMPANHAMENTO DE ATESTOS/Arquivos_Modelos'\n",
    "new_folder_name = num_month + \" \" + ref_month\n",
    "new_folder_path = os.path.join(main_folder, new_folder_name)\n",
    "\n",
    "\n",
    "try:\n",
    "    if not os.path.exists(new_folder_name):\n",
    "        os.makedirs(new_folder_path)\n",
    "        print('A new folder was created.')\n",
    "        \n",
    "        \n",
    "    # Copiar os arquivos da pasta Arquivos_Modelos + Salvar na pasta do mês ref\n",
    "    files = os.listdir(model_files_path)\n",
    "    for file in files:\n",
    "        src_path = os.path.join(model_files_path, file)\n",
    "        dst_path = os.path.join(new_folder_path, file)\n",
    "        shutil.copy2(src_path, dst_path)\n",
    "        \n",
    "        \n",
    "    # Atualizar Título e Conteúdo p/ o mês ref\n",
    "    # PT I - Alterar título\n",
    "    # files = os.listdir(model_files_path)\n",
    "    upper_month = ref_month[:3]\n",
    "\n",
    "    files = os.listdir(new_folder_path)\n",
    "    for file in files:\n",
    "        new_name = file.replace('[MÊS]', upper_month)\n",
    "        old_path = os.path.join(new_folder_path, file)\n",
    "        new_path = os.path.join(new_folder_path, new_name)\n",
    "        os.rename(old_path, new_path)\n",
    "        \n",
    "    \n",
    "    # Atualizar Título e Conteúdo p/ o mês ref\n",
    "    # PT II - Alterar conteúdo\n",
    "    # files = os.listdir(model_files_path)\n",
    "    lower_month = ref_month.lower()\n",
    "\n",
    "    files = os.listdir(new_folder_path)\n",
    "    for file in files:\n",
    "        file_path = os.path.join(new_folder_path, file)\n",
    "        doc = Document(file_path)\n",
    "        \n",
    "        for par in doc.paragraphs:\n",
    "            if '[mês]' in par.text:\n",
    "                new_text = par.text.replace('[mês]', lower_month)\n",
    "                par.text = new_text\n",
    "            doc.save(file_path)\n",
    "        \n",
    "        \n",
    "except FileExistsError as error:\n",
    "    messagebox.showinfo('Alert', error)\n"
   ]
  }
 ],
 "metadata": {
  "kernelspec": {
   "display_name": "base",
   "language": "python",
   "name": "python3"
  },
  "language_info": {
   "codemirror_mode": {
    "name": "ipython",
    "version": 3
   },
   "file_extension": ".py",
   "mimetype": "text/x-python",
   "name": "python",
   "nbconvert_exporter": "python",
   "pygments_lexer": "ipython3",
   "version": "3.9.12"
  }
 },
 "nbformat": 4,
 "nbformat_minor": 2
}
